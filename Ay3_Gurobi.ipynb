{
 "cells": [
  {
   "cell_type": "markdown",
   "id": "7634554a-038b-40a4-98c0-c4c627d706d5",
   "metadata": {},
   "source": [
    "<table width=\"100%\" cellspacing=\"0\" cellpadding=\"0\" border=\"0\">\n",
    "    <tr>\n",
    "        <td align=\"left\" valign=\"top\" width=\"80px\">\n",
    "            <img src=\"https://estudiosurbanos.uc.cl/wp-content/uploads/2019/10/logo-puc-png-4.png\" width=\"79px\">\n",
    "        </td>\n",
    "        <td align=\"left\" valign=\"top\">\n",
    "            <p style=\"font-variant: small-caps;\">\n",
    "                Pontificia Universidad Católica de Chile <br>\n",
    "                Facultad de Ingeniería <br>\n",
    "                Profesor: Alejandro Cataldo <br>\n",
    "                Ayudante: Daniel Zúñiga & Joaquín Cabello\n",
    "            </p>\n",
    "        </td>\n",
    "    </tr>\n",
    "    <tr>\n",
    "        <td colspan=\"2\" align=\"center\">\n",
    "            <h1>Ayudantía 3 - Introducción Gurobi</h1>\n",
    "        </td>\n",
    "        <td align=\"left\">\n",
    "            <img src=\"https://mms.businesswire.com/media/20220901005565/es/1291143/23/Gurobi_Logo.jpg\" width=\"300px\">\n",
    "        </td>\n",
    "    </tr>\n",
    "    <tr>\n",
    "        <td colspan=\"3\" align=\"center\">\n",
    "            <h2>IMT2250 - Optimización para ciencia de datos - 2' 2023</h2>\n",
    "        </td>\n",
    "    </tr>\n",
    "</table>\n"
   ]
  },
  {
   "cell_type": "markdown",
   "id": "5240732c-59c0-4a61-b2bc-810f17e6ec82",
   "metadata": {},
   "source": [
    "La optimización es el acto de obtener la mejor solución posible de un conjunto de soluciones posibles, bajo ciertas restricciones. Gurobi es una herramienta líder en la industria que resuelve problemas de optimización lineal (LP), optimización entera mixta (MIP), entre otros.\n",
    "\n",
    "**En este curso nos centraremos en problemas de optimización lineal (LP).**"
   ]
  },
  {
   "cell_type": "markdown",
   "id": "6ba94bc9-6c70-4623-90dd-cb5aec1c73bd",
   "metadata": {},
   "source": [
    "## Gurobi\n",
    "\n",
    "### ¿Qué es Gurobi?\n",
    "\n",
    "Gurobi es un solver de optimización comercial que ofrece soluciones para problemas lineales, cuadráticos y otros tipos de optimización.\n",
    "\n",
    "## Instalación\n",
    "\n",
    "Para instalar Gurobi, es importante ver la [web oficial de Gurobi](https://www.gurobi.com/). \n",
    "\n",
    "Los pasos son:\n",
    "\n",
    "1. Crear una cuenta señalando pertenecer a la universidad.\n",
    "2. Obtener licencia academica.\n",
    "3. Instalación y activación licencia: [web oficial de descarga](https://support.gurobi.com/hc/en-us/articles/4534161999889-How-do-I-install-Gurobi-Optimizer-).\n",
    "4. Instalación python: [web oficial de gurobipy](https://support.gurobi.com/hc/en-us/articles/360044290292-How-do-I-install-Gurobi-for-Python-).\n",
    "   \n",
    "   - ```python\n",
    "     pip install gurobipy==10.0.1\n",
    "     ````\n",
    "   "
   ]
  },
  {
   "cell_type": "markdown",
   "id": "0a40c075-0cfe-4082-8abf-0e8d05796153",
   "metadata": {},
   "source": [
    "## Funciones comunes\n",
    "\n",
    "Vamos a profundizar en algunas de las funciones más comunes que utilizaremos con Gurobi.\n"
   ]
  },
  {
   "cell_type": "code",
   "execution_count": null,
   "id": "d21abcea-d278-4fc4-a406-d5a3136ded29",
   "metadata": {},
   "outputs": [],
   "source": [
    "from gurobipy import *"
   ]
  },
  {
   "cell_type": "markdown",
   "id": "bf510ec8-0888-4086-b648-1ee64572d57b",
   "metadata": {},
   "source": [
    "### `Model()`\n",
    "\n",
    "La función `Model()` se utiliza para crear un nuevo modelo de optimización. \n",
    "\n",
    "Por ejemplo:"
   ]
  },
  {
   "cell_type": "code",
   "execution_count": null,
   "id": "aff492af-6700-44f9-988c-aa651ad7359e",
   "metadata": {},
   "outputs": [],
   "source": [
    "m = Model(\"nombre_del_modelo\")\n",
    "m"
   ]
  },
  {
   "cell_type": "markdown",
   "id": "5efa5adb-284f-4a75-8f8f-8c1ef84f2970",
   "metadata": {},
   "source": [
    "El argumento es opcional y sirve para asignarle un nombre al modelo."
   ]
  },
  {
   "cell_type": "markdown",
   "id": "252ce2ee-0911-4e34-aed3-221f975849c6",
   "metadata": {},
   "source": [
    "### `addVar()`\n",
    "\n",
    "Una vez que tenemos un modelo, necesitamos variables de decisión. La función `addVar()` nos permite agregar estas variables al modelo.\n",
    "\n",
    "Parámetros comunes:\n",
    "\n",
    "- `lb`: límite inferior de la variable.\n",
    "- `ub`: límite superior de la variable.\n",
    "- `vtype`: tipo de variable (`GRB.CONTINUOUS`, `GRB.BINARY`, `GRB.INTEGER`).\n",
    "- `name`: nombre de la variable.\n",
    "\n",
    "Ejemplo:\n"
   ]
  },
  {
   "cell_type": "code",
   "execution_count": null,
   "id": "b6db7986-7146-4ab3-b844-779a83f333d0",
   "metadata": {},
   "outputs": [],
   "source": [
    "x = m.addVar(vtype=GRB.CONTINUOUS, lb=0, name=\"x\")\n",
    "y = m.addVar(vtype=GRB.BINARY, name=\"y\")\n",
    "\n",
    "# En este caso, x es una variable continua con un límite inferior de 0,\n",
    "# mientras que y es una variable binaria."
   ]
  },
  {
   "cell_type": "markdown",
   "id": "4f80ad70-e402-41b0-b507-e0dd9407c256",
   "metadata": {},
   "source": [
    "### `setObjective()`\n",
    "\n",
    "Una vez que tenemos las variables, necesitamos definir la función objetivo. Esto se hace con `setObjective()`.\n",
    "\n",
    "Parámetros comunes:\n",
    "\n",
    "- Expresión lineal o cuadrática representando la función objetivo.\n",
    "- El sentido de la optimización (`GRB.MAXIMIZE` o `GRB.MINIMIZE`).\n",
    "\n",
    "Ejemplo:\n"
   ]
  },
  {
   "cell_type": "code",
   "execution_count": null,
   "id": "359f44a0-4dd9-496e-9791-b3018c9f8459",
   "metadata": {},
   "outputs": [],
   "source": [
    "m.setObjective(3*x + 4*y, GRB.MAXIMIZE)\n",
    "# Esto significa que queremos maximizar 3x+4y."
   ]
  },
  {
   "cell_type": "markdown",
   "id": "49ac54da-573a-4638-8d1d-bed8f87e6435",
   "metadata": {},
   "source": [
    "### `addConstr()`\n",
    "\n",
    "Los problemas de optimización suelen tener restricciones que limitan el espacio de soluciones posibles. Usamos `addConstr()` para agregar estas restricciones al modelo.\n",
    "\n",
    "Parámetros comunes:\n",
    "\n",
    "- Expresión lineal o cuadrática que define la restricción.\n",
    "- `name`: nombre de la restricción (opcional).\n",
    "\n",
    "Ejemplo:"
   ]
  },
  {
   "cell_type": "code",
   "execution_count": null,
   "id": "4784f677-6fa9-47a2-8110-6c4712df5d07",
   "metadata": {},
   "outputs": [],
   "source": [
    "m.addConstr(x + 2*y <= 5, name=\"restriccion1\")\n",
    "m.addConstr(x - y == 3, name=\"restriccion2\")\n",
    "# Esto define dos restricciones: x+2y≤5 y x−y=3."
   ]
  },
  {
   "cell_type": "markdown",
   "id": "0c27a27f-8ff7-46f1-8cde-aaf5fc764dee",
   "metadata": {},
   "source": [
    "### `optimize()`\n",
    "\n",
    "Finalmente, una vez que hemos definido la función objetivo y las restricciones, podemos resolver el modelo utilizando la función `optimize()`.\n",
    "\n",
    "Ejemplo:"
   ]
  },
  {
   "cell_type": "code",
   "execution_count": null,
   "id": "890e4f84-6143-4146-a0ac-470255b0309a",
   "metadata": {},
   "outputs": [],
   "source": [
    "m.optimize()\n"
   ]
  },
  {
   "cell_type": "markdown",
   "id": "02453e04-bb0e-4a48-9c8d-6f2517cac779",
   "metadata": {},
   "source": [
    "Después de llamar a esta función, Gurobi intentará encontrar la solución óptima al problema. Si se encuentra una solución, puedes consultar los valores de las variables y el valor óptimo de la función objetivo."
   ]
  },
  {
   "cell_type": "markdown",
   "id": "901aaf2e-48c2-41b1-97aa-9aabca9631f2",
   "metadata": {},
   "source": [
    "### `display()`\n",
    "\n",
    "Cuando estás construyendo y resolviendo modelos, a menudo es útil tener una representación clara y concisa de cómo se ve el modelo actual, incluyendo las variables, sus valores y las restricciones. El método `display()` proporciona esta representación.\n",
    "\n",
    "Al llamar a `display()` después de resolver un modelo, también te mostrará los valores óptimos de las variables y el valor de la función objetivo.\n",
    "\n",
    "Ejemplo:"
   ]
  },
  {
   "cell_type": "code",
   "execution_count": null,
   "id": "71c2574f-3d47-4672-8ed8-a6adf49a59af",
   "metadata": {},
   "outputs": [],
   "source": [
    "m = Model(\"modelo_ejemplo\")\n",
    "x = m.addVar(vtype=GRB.CONTINUOUS, lb=0, name=\"x\")\n",
    "y = m.addVar(vtype=GRB.BINARY, name=\"y\")\n",
    "m.setObjective(3*x + 4*y, GRB.MAXIMIZE)\n",
    "m.addConstr(x + 2*y <= 5, name=\"restriccion1\")\n",
    "m.update()\n",
    "m.optimize()\n",
    "\n",
    "# Muestra una representación del modelo y la solución\n",
    "m.display()"
   ]
  },
  {
   "cell_type": "markdown",
   "id": "b6c75235-9f83-4f51-9364-925f44293bf7",
   "metadata": {},
   "source": [
    "### `update()`\n",
    "\n",
    "Después de hacer cambios en el modelo, como agregar variables o restricciones, es necesario informar a Gurobi de estos cambios antes de resolver el modelo. La función `update()` realiza esta tarea.\n",
    "\n",
    "No es necesario llamar a `update()` después de cada cambio individual, pero es esencial hacerlo después de realizar un conjunto de cambios y antes de llamar a `optimize()`. \n",
    "\n",
    "Ejemplo:"
   ]
  },
  {
   "cell_type": "code",
   "execution_count": null,
   "id": "51482ba5-058c-4297-9f25-8e2b0377e7a1",
   "metadata": {},
   "outputs": [],
   "source": [
    "z = m.addVar(vtype=GRB.BINARY, name=\"z\")\n",
    "z"
   ]
  },
  {
   "cell_type": "code",
   "execution_count": null,
   "id": "7997c852-62aa-442b-aa40-568f84db057a",
   "metadata": {},
   "outputs": [],
   "source": [
    "m.display()"
   ]
  },
  {
   "cell_type": "code",
   "execution_count": null,
   "id": "68e2e9c0-c9b2-436b-aed0-cb241dc12cc9",
   "metadata": {},
   "outputs": [],
   "source": [
    "m.update()\n",
    "m.display()"
   ]
  },
  {
   "cell_type": "code",
   "execution_count": null,
   "id": "881836e3-8e97-4445-a69e-d78707818b88",
   "metadata": {},
   "outputs": [],
   "source": [
    "m.setObjective(2*x + 5*y + z, GRB.MAXIMIZE)\n",
    "m.update()\n",
    "\n",
    "m.addConstr(x + y + z <= 8, name=\"restriccion3\")\n",
    "m.update()"
   ]
  },
  {
   "cell_type": "code",
   "execution_count": null,
   "id": "2a1d4c29-37ed-46e6-a9ae-b2d8e8e44922",
   "metadata": {},
   "outputs": [],
   "source": [
    "m.display()"
   ]
  },
  {
   "cell_type": "markdown",
   "id": "4a4e49b8-be06-4b9d-b5fa-08e7887eafa3",
   "metadata": {},
   "source": [
    "### `.objVal`\n",
    "\n",
    "Una vez que has resuelto un modelo con Gurobi, puedes usar la propiedad .objVal para obtener el valor objetivo de la solución óptima. En otras palabras, es el valor de la función objetivo para la solución que Gurobi encontró."
   ]
  },
  {
   "cell_type": "code",
   "execution_count": null,
   "id": "a11d77bd-e054-477e-b988-31cb6fae2945",
   "metadata": {},
   "outputs": [],
   "source": [
    "# Mostrar el valor objetivo\n",
    "print(\"Valor objetivo:\", m.objVal)"
   ]
  },
  {
   "cell_type": "markdown",
   "id": "98ba3d98-c1da-4f9f-a8d8-dc2ae1d3bea7",
   "metadata": {},
   "source": [
    "### `.x``\n",
    "\n",
    "La propiedad .x se utiliza para obtener el valor de una variable en la solución óptima.\n",
    "\n",
    "Ejemplo:\n"
   ]
  },
  {
   "cell_type": "code",
   "execution_count": null,
   "id": "4733984b-2e4c-4362-97a1-a8983d59698a",
   "metadata": {},
   "outputs": [],
   "source": [
    "# Mostrar el valor de las variables en la solución óptima\n",
    "print(\"Valor de x:\", x.x)\n",
    "print(\"Valor de y:\", y.x)"
   ]
  },
  {
   "cell_type": "markdown",
   "id": "7637e0b5-c609-417f-94f7-d017158d6c9c",
   "metadata": {},
   "source": [
    "También, si tienes muchas variables, puedes acceder a todas sus soluciones al mismo tiempo:"
   ]
  },
  {
   "cell_type": "code",
   "execution_count": null,
   "id": "50cab7a3-f138-4521-bbf1-48968bd85434",
   "metadata": {},
   "outputs": [],
   "source": [
    "for v in m.getVars():\n",
    "    print(v.varName, v.x)"
   ]
  },
  {
   "cell_type": "markdown",
   "id": "96f77ff3-e596-4b19-aab2-7204f63b1dd1",
   "metadata": {},
   "source": [
    "Es importante recordar que estas propiedades, `.objVal` y `.x`, solo serán válidas si Gurobi encontró una solución factible al problema. De lo contrario, intentar acceder a ellas resultará en un error. Es una buena práctica verificar si Gurobi encontró una solución (usando el estado de la solución) antes de intentar acceder a estas propiedades."
   ]
  },
  {
   "cell_type": "markdown",
   "id": "05722044-9930-4fc8-a714-9b4c0ba10546",
   "metadata": {},
   "source": [
    "### `.status`\n",
    "\n",
    "Es muy útil para entender si el modelo fue resuelto con éxito, si es infactible, si es no acotado, entre otras posibles situaciones.\n",
    "\n",
    "Aquí están algunos de los valores posibles que el atributo status puede tomar:\n",
    "\n",
    "    GRB.OPTIMAL: El optimizador encontró una solución óptima. En este caso, es seguro acceder a .objVal y .x.\n",
    "\n",
    "    GRB.INFEASIBLE: El modelo es infactible, lo que significa que no existe ninguna solución que satisfaga todas las restricciones.\n",
    "\n",
    "    GRB.INF_OR_UNBD: El modelo es o bien infactible o no acotado.\n",
    "\n",
    "    GRB.UNBOUNDED: El modelo es no acotado, es decir, la solución puede crecer indefinidamente sin violar ninguna restricción.\n",
    "\n",
    "    GRB.CUTOFF: No se encontró ninguna solución que mejore el límite de corte (cutoff).\n",
    "\n",
    "    GRB.ITERATION_LIMIT: Se alcanzó el límite de iteraciones antes de encontrar una solución.\n",
    "\n",
    "    GRB.NODE_LIMIT: Se alcanzó el límite de nodos en la búsqueda de ramificación y acotamiento.\n",
    "\n",
    "    GRB.TIME_LIMIT: Se alcanzó el límite de tiempo sin encontrar una solución.\n",
    "\n",
    "    GRB.SOLUTION_LIMIT: Se encontró el número deseado de soluciones.\n",
    "\n",
    "    GRB.INTERRUPTED: La optimización fue detenida por una interrupción (por ejemplo, llamada a la función abort()).\n",
    "\n",
    "    GRB.NUMERIC: Problemas numéricos impidieron encontrar una solución.\n",
    "\n",
    "Esto es útil porque puedes estructurar tu código para manejar diferentes situaciones según el estado de la solución. Por ejemplo:"
   ]
  },
  {
   "cell_type": "code",
   "execution_count": null,
   "id": "fe0f993f-a432-4566-b3ab-106596cf7409",
   "metadata": {},
   "outputs": [],
   "source": [
    "m.optimize()\n",
    "\n",
    "if m.status == GRB.OPTIMAL:\n",
    "    print('Solución óptima encontrada:')\n",
    "    for v in m.getVars():\n",
    "        print(v.varName, v.x)\n",
    "    print(\"Valor objetivo:\", m.objVal)\n",
    "elif m.status == GRB.INFEASIBLE:\n",
    "    print('Modelo infactible')\n",
    "elif m.status == GRB.UNBOUNDED:\n",
    "    print('Modelo no acotado')\n",
    "else:\n",
    "    print('Estado:', m.status)\n"
   ]
  },
  {
   "cell_type": "markdown",
   "id": "e76c3f34-d911-414b-bf82-5ad7c46f19e3",
   "metadata": {},
   "source": [
    "### Sumatorias\n",
    "Imagina que tienes un conjunto de índices en un rango N y quieres definir una variable a[i] para cada índice en N.\n"
   ]
  },
  {
   "cell_type": "code",
   "execution_count": null,
   "id": "79973d7f-f0f1-4e7a-88ee-d8ce91a0b7cb",
   "metadata": {},
   "outputs": [],
   "source": [
    "# Datos\n",
    "N = 5  # Número de variables\n",
    "a = [2, 3, 1, 5, 4]  # Coeficientes a_i\n",
    "b = 10  # Constante\n",
    "\n",
    "# Crear modelo\n",
    "m = Model(\"simple_lp\")\n",
    "\n",
    "# Variables\n",
    "x = m.addVars(N, vtype=GRB.CONTINUOUS, name=\"x\")\n",
    "\n",
    "# Restricción\n",
    "m.addConstr(sum(a[i] * x[i] for i in range(N)) <= b, \"restriccion1\")\n",
    "\n",
    "# Función objetivo\n",
    "m.setObjective(sum(x[i] for i in range(N)), GRB.MAXIMIZE)\n",
    "\n",
    "# Resolver\n",
    "m.optimize()\n",
    "\n",
    "# Resultados\n",
    "if m.status == GRB.Status.OPTIMAL:\n",
    "    for i in range(N):\n",
    "        print(f\"x_{i} =\", x[i].x)"
   ]
  },
  {
   "cell_type": "markdown",
   "id": "27524415-1f11-4aac-9124-211d64462921",
   "metadata": {},
   "source": [
    "\n",
    "Con estos fundamentos, ya puedes construir y resolver un modelo básico de optimización lineal con Gurobi en Python. A medida que te familiarices con estas funciones, te animo a explorar la amplia gama de capacidades adicionales que ofrece Gurobi.\n"
   ]
  },
  {
   "cell_type": "markdown",
   "id": "f05f567d-1d1d-4747-aa13-02dabf8a5529",
   "metadata": {},
   "source": [
    "## Ejemplo Práctico\n",
    "\n",
    "#### Problema de la dieta:\n",
    "\n",
    "Supongamos que quieres seguir una dieta que cumpla con tus necesidades nutricionales diarias al menor costo posible. Tienes una lista de alimentos disponibles, su costo y su contenido nutricional. El objetivo es determinar cuánto de cada alimento debes consumir para cumplir con tus requerimientos nutricionales sin excederlos, y al mismo tiempo, minimizar el costo total.\n",
    "\n",
    "**Datos:**\n",
    "\n",
    "**Alimentos:** Pan, Leche, Huevos, Manzanas.\n",
    "\n",
    "**Costo por unidad:** Pan = $\\$ $2, Leche = $\\$ $1, Huevos = $\\$ $0.5, Manzanas = $\\$ $0.75.\n",
    "\n",
    "**Contenido nutricional por unidad:**\n",
    "\n",
    "- Pan = 4g de proteína, 2g de grasa, 20g de carbohidratos.\n",
    "- Leche = 1g de proteína, 1g de grasa, 5g de carbohidratos.\n",
    "- Huevos = 6g de proteína, 5g de grasa, 1g de carbohidratos.\n",
    "- Manzanas = 0g de proteína, 0g de grasa, 15g de carbohidratos.\n",
    "\n",
    "**Requerimientos diarios:**\n",
    "\n",
    "- Proteína: al menos 20g.\n",
    "- Grasa: al menos 10g.\n",
    "- Carbohidratos: al menos 50g."
   ]
  },
  {
   "cell_type": "code",
   "execution_count": null,
   "id": "a496e9be-fe39-4b8c-b6fa-a715867d9806",
   "metadata": {},
   "outputs": [],
   "source": [
    "# Definir el modelo\n",
    "m = Model('Dieta')"
   ]
  },
  {
   "cell_type": "code",
   "execution_count": null,
   "id": "82c111d3-7612-4499-a37c-bfb51da98543",
   "metadata": {},
   "outputs": [],
   "source": [
    "m"
   ]
  },
  {
   "cell_type": "code",
   "execution_count": null,
   "id": "75fa9e45-f8b9-42ce-b152-0de9aa89dde8",
   "metadata": {},
   "outputs": [],
   "source": [
    "# Definir Variables de decisión\n",
    "pan = m.addVar(vtype=GRB.CONTINUOUS, name=\"PAN\")\n",
    "leche = m.addVar(vtype=GRB.CONTINUOUS, name=\"LECHE\") \n",
    "huevos = m.addVar(vtype=GRB.CONTINUOUS, name=\"HUEVOS\")\n",
    "manzana = m.addVar(vtype=GRB.CONTINUOUS, name=\"MANZANA\")"
   ]
  },
  {
   "cell_type": "code",
   "execution_count": null,
   "id": "6c5b197c-6f60-4cc4-91e9-559cbd763d62",
   "metadata": {},
   "outputs": [],
   "source": [
    "# Restricciones\n",
    "m.addConstr(4*pan + leche + 6*huevos + 0*manzana >= 20, name=\"Restriccion Prote\")\n",
    "m.addConstr(2*pan + 1* leche + 5*huevos + 0*manzana >= 10, name=\"Restriccion Grasa\")\n",
    "m.addConstr(20*pan + 5*leche + 1*huevos + 15*manzana >= 50, name=\"Restriccion Carbohi\")"
   ]
  },
  {
   "cell_type": "code",
   "execution_count": null,
   "id": "071e3e3e-6c42-4d43-88db-94f829b5115b",
   "metadata": {},
   "outputs": [],
   "source": [
    "# Función Objetivo\n",
    "m.setObjective(2*pan + leche + 0.5*huevos + 0.75*manzana, GRB.MINIMIZE)"
   ]
  },
  {
   "cell_type": "code",
   "execution_count": null,
   "id": "ba145857-4499-448b-ab2a-9ad6628c3b44",
   "metadata": {},
   "outputs": [],
   "source": [
    "# Actualizamos el modelo\n",
    "m.update()"
   ]
  },
  {
   "cell_type": "code",
   "execution_count": null,
   "id": "0da6a45a-de77-4db9-8aac-260991a49ea3",
   "metadata": {},
   "outputs": [],
   "source": [
    "# Resolver\n",
    "m.optimize()"
   ]
  },
  {
   "cell_type": "code",
   "execution_count": null,
   "id": "e072acf6-2921-4e3b-bcab-b71d52ab7f4d",
   "metadata": {},
   "outputs": [],
   "source": [
    "# Imprimir los resultados\n",
    "if m.status == GRB.OPTIMAL:\n",
    "    print('Cantidad óptima de Pan:' ,pan.x)\n",
    "    print('Cantidad óptima de Leche:',leche.x)\n",
    "    print('Cantidad óptima de Huevos:', huevos.x)\n",
    "    print('Cantidad óptima de Manzanas:', manzana.x)\n",
    "    print('Costo total mínimo:', m.objVal)\n",
    "else:\n",
    "    print('No se encontró una solución óptima.')"
   ]
  },
  {
   "cell_type": "code",
   "execution_count": null,
   "id": "36e4fe79-a267-4a4d-b418-9ca643eab22c",
   "metadata": {},
   "outputs": [],
   "source": []
  }
 ],
 "metadata": {
  "kernelspec": {
   "display_name": "Python 3 (ipykernel)",
   "language": "python",
   "name": "python3"
  },
  "language_info": {
   "codemirror_mode": {
    "name": "ipython",
    "version": 3
   },
   "file_extension": ".py",
   "mimetype": "text/x-python",
   "name": "python",
   "nbconvert_exporter": "python",
   "pygments_lexer": "ipython3",
   "version": "3.10.12"
  }
 },
 "nbformat": 4,
 "nbformat_minor": 5
}
