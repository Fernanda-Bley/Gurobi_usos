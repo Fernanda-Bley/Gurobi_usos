{
 "cells": [
  {
   "cell_type": "markdown",
   "metadata": {},
   "source": [
    "# Problema 3.\n",
    "\n",
    "Considere que, apoyándose en el desarrollo de la Ciencia de Datos y la Optimización avanzada, usted desea\n",
    "conformar un nuevo equipo de fútbol. Para esto, usted ha logrado recopilar información sobre 325 futbolistas.\n",
    "Esta información corresponde a la valoración que se tiene, para cada uno de ellos, de las 4 posiciones en\n",
    "el campo de juego: Arquero, Defensa, Mediocampista y Delantero; y al precio de contratar a ese jugador.\n",
    "Esta valoración está medida en un coeficiente que va desde el 0 al 100, donde el 100 es la mayor valoración.\n",
    "Además, cuanta con la información de qué jugadores no debeŕıan compartir equipo con qué jugadores. Esta\n",
    "información está clasificada como 0 (pueden compartir equipo), 1 (conflicto 1: preferentemente no debeŕıan\n",
    "compartir equipo) y 2 (conflicto 2: no debeŕıan compartir equipo). Toda esta información se encuentra en el\n",
    "archivo Datos.xls, en la hojas Caracteŕısticas y Conflictos.\n",
    "\n",
    "Basado en esta información, se le pide conformar un equipo con la mayor valoración posible que cuente con\n",
    "33 jugadores (no se puede contratar a un jugador en más de una posición), de los cuales 3 son Arqueros, 10\n",
    "Defensas, 12 son Mediocampistas y 8 son Delanteros, y que se limite por el presupuesto disponible, que es de\n",
    "22000 pesos. Para esto, usted sabe que cada jugador de la lista puede ser contratado en cualquier de las 4\n",
    "posiciones, que la valoración total del equipo es la suma de las valoraciones individuales de la posición escogida\n",
    "para cada jugador contratado, y que el costo total de la plantilla de jugadores es la suma de los precios de\n",
    "contratación de todos los jugadores contratados."
   ]
  },
  {
   "cell_type": "markdown",
   "metadata": {},
   "source": [
    "*(a) (10 puntos) Diseñe un algoritmo, prográmelo y ejecútelo en Python, para seleccionar aleatoriamente jugadores a cada una de las 33 posiciones requeridas sin sobrepasar el presupuesto disponible. Registre la solución en: jugadores seleccionados y su posición, valoración total del equipo, total de conflictos (separados en conflictos 1 y conflictos 2) y listados de casos (jugadores en cada conflicto), y el costo total de la plantilla. Una vez diseñado este algoritmo, ejecútelo 1000 veces, y entregue la solución que tiene menos puntaje en conflictos (sume 1 punto a cada conflicto 1 y 5 puntos a cada conflicto 2). En caso de que haya más de una solución con el mismo puntaje en conflictos, escoja aquella que tenga mayor valoración total.*"
   ]
  },
  {
   "cell_type": "code",
   "execution_count": 13,
   "metadata": {},
   "outputs": [],
   "source": [
    "from gurobipy import *\n",
    "import pandas as pd"
   ]
  },
  {
   "cell_type": "code",
   "execution_count": 14,
   "metadata": {},
   "outputs": [],
   "source": [
    "modelo = Model(\"modelo_futbol\")"
   ]
  },
  {
   "cell_type": "code",
   "execution_count": 16,
   "metadata": {},
   "outputs": [],
   "source": [
    "## Definimos variables \n",
    "# Número de jugadores\n",
    "num_jugadores = 325\n",
    "\n",
    "# Número de posiciones\n",
    "num_posiciones = 4\n",
    "\n",
    "# Número de jugadores por posición\n",
    "num_arqueros = 3\n",
    "num_defensas = 10\n",
    "num_mediocampistas = 12\n",
    "num_delanteros = 8\n",
    "\n",
    "# Presupuesto disponible\n",
    "presupuesto = 22000\n",
    "\n",
    "datos = pd.read_excel(\"Datos.xlsx\", sheet_name=\"Características\")\n"
   ]
  },
  {
   "cell_type": "code",
   "execution_count": 23,
   "metadata": {},
   "outputs": [
    {
     "data": {
      "text/plain": [
       "{0: <gurobi.Constr *Awaiting Model Update*>,\n",
       " 1: <gurobi.Constr *Awaiting Model Update*>,\n",
       " 2: <gurobi.Constr *Awaiting Model Update*>,\n",
       " 3: <gurobi.Constr *Awaiting Model Update*>}"
      ]
     },
     "execution_count": 23,
     "metadata": {},
     "output_type": "execute_result"
    }
   ],
   "source": [
    "#Variables de desición definidas\n",
    "var_desicion = {}\n",
    "for i in range(num_jugadores):\n",
    "    for j in [\"Arquero\", \"Defensa\", \"Mediocampista\", \"Delantero\"]:\n",
    "        var_desicion[i, j] = modelo.addVar(vtype=GRB.BINARY, lb=0, name=f\"x-{i}-{j}\")\n",
    "#Funcion Objetivo\n",
    "modelo.setObjective(\n",
    "    quicksum(\n",
    "        datos.loc[i, \"Arquero\"] * var_desicion[i, \"Arquero\"] +\n",
    "        datos.loc[i, \"Defensa\"] * var_desicion[i, \"Defensa\"] +\n",
    "        datos.loc[i, \"Mediocampista\"] * var_desicion[i, \"Mediocampista\"] +\n",
    "        datos.loc[i, \"Delantero\"] * var_desicion[i, \"Delantero\"]\n",
    "        for i in range(num_jugadores)\n",
    "    ),\n",
    "    GRB.MAXIMIZE\n",
    ")\n",
    "\n",
    "#Restricciones\n",
    "\n",
    "modelo.addConstrs(\n",
    "    quicksum(var_desicion[i, \"Arquero\"] for i in range(num_jugadores)) == num_arqueros\n",
    "    for j in range(num_posiciones)\n",
    ")\n",
    "modelo.addConstrs(\n",
    "    quicksum(var_desicion[i, \"Defensa\"] for i in range(num_jugadores)) == num_defensas\n",
    "    for j in range(num_posiciones)\n",
    ")\n",
    "modelo.addConstrs(\n",
    "    quicksum(var_desicion[i, \"Mediocampista\"] for i in range(num_jugadores)) == num_mediocampistas\n",
    "    for j in range(num_posiciones)\n",
    ")\n",
    "modelo.addConstrs(\n",
    "    quicksum(var_desicion[i, \"Delantero\"] for i in range(num_jugadores)) == num_delanteros\n",
    "    for j in range(num_posiciones)\n",
    ")\n",
    "# Optimizar el modelo\n",
    "modelo.optimize()\n",
    "\n",
    "\n",
    "\n"
   ]
  },
  {
   "cell_type": "code",
   "execution_count": 24,
   "metadata": {},
   "outputs": [
    {
     "name": "stdout",
     "output_type": "stream",
     "text": [
      "Gurobi Optimizer version 10.0.3 build v10.0.3rc0 (linux64)\n",
      "\n",
      "CPU model: AMD EPYC 7763 64-Core Processor, instruction set [SSE2|AVX|AVX2]\n",
      "Thread count: 1 physical cores, 2 logical processors, using up to 2 threads\n",
      "\n"
     ]
    },
    {
     "ename": "GurobiError",
     "evalue": "Model too large for size-limited license; visit https://www.gurobi.com/free-trial for a full license",
     "output_type": "error",
     "traceback": [
      "\u001b[0;31m---------------------------------------------------------------------------\u001b[0m",
      "\u001b[0;31mGurobiError\u001b[0m                               Traceback (most recent call last)",
      "\u001b[1;32m/workspaces/Gurobi_usos/Pregunta3.ipynb Celda 7\u001b[0m line \u001b[0;36m2\n\u001b[1;32m      <a href='vscode-notebook-cell://codespaces%2Bfluffy-happiness-6q6jxjrvj5hr64v/workspaces/Gurobi_usos/Pregunta3.ipynb#X10sdnNjb2RlLXJlbW90ZQ%3D%3D?line=0'>1</a>\u001b[0m \u001b[39m#Respuesta óptima\u001b[39;00m\n\u001b[0;32m----> <a href='vscode-notebook-cell://codespaces%2Bfluffy-happiness-6q6jxjrvj5hr64v/workspaces/Gurobi_usos/Pregunta3.ipynb#X10sdnNjb2RlLXJlbW90ZQ%3D%3D?line=1'>2</a>\u001b[0m modelo\u001b[39m.\u001b[39;49moptimize()\n",
      "File \u001b[0;32msrc/gurobipy/model.pxi:878\u001b[0m, in \u001b[0;36mgurobipy.Model.optimize\u001b[0;34m()\u001b[0m\n",
      "\u001b[0;31mGurobiError\u001b[0m: Model too large for size-limited license; visit https://www.gurobi.com/free-trial for a full license"
     ]
    }
   ],
   "source": [
    "#Respuesta óptima\n",
    "modelo.optimize()"
   ]
  },
  {
   "cell_type": "markdown",
   "metadata": {},
   "source": [
    "\n",
    "*(b) (10 puntos) Diseñe un modelo de optimización lineal en variables binarias, prográmelo y resuélvalo en Python/GUROBI, para encontrar la conformación de la plantilla de jugadores (33 posiciones), garantizando que no existan conflictos y que no se sobrepasa el presupuesto disponible. Compare esta solución con la obtenida en la parte (a).*"
   ]
  }
 ],
 "metadata": {
  "kernelspec": {
   "display_name": "Python 3",
   "language": "python",
   "name": "python3"
  },
  "language_info": {
   "codemirror_mode": {
    "name": "ipython",
    "version": 3
   },
   "file_extension": ".py",
   "mimetype": "text/x-python",
   "name": "python",
   "nbconvert_exporter": "python",
   "pygments_lexer": "ipython3",
   "version": "3.10.8"
  }
 },
 "nbformat": 4,
 "nbformat_minor": 2
}
