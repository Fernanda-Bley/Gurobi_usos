{
 "cells": [
  {
   "cell_type": "markdown",
   "metadata": {},
   "source": [
    "# Problema 3.\n",
    "\n",
    "Considere que, apoyándose en el desarrollo de la Ciencia de Datos y la Optimización avanzada, usted desea\n",
    "conformar un nuevo equipo de fútbol. Para esto, usted ha logrado recopilar información sobre 325 futbolistas.\n",
    "Esta información corresponde a la valoración que se tiene, para cada uno de ellos, de las 4 posiciones en\n",
    "el campo de juego: Arquero, Defensa, Mediocampista y Delantero; y al precio de contratar a ese jugador.\n",
    "Esta valoración está medida en un coeficiente que va desde el 0 al 100, donde el 100 es la mayor valoración.\n",
    "Además, cuanta con la información de qué jugadores no debeŕıan compartir equipo con qué jugadores. Esta\n",
    "información está clasificada como 0 (pueden compartir equipo), 1 (conflicto 1: preferentemente no debeŕıan\n",
    "compartir equipo) y 2 (conflicto 2: no debeŕıan compartir equipo). Toda esta información se encuentra en el\n",
    "archivo Datos.xls, en la hojas Caracteŕısticas y Conflictos.\n",
    "\n",
    "Basado en esta información, se le pide conformar un equipo con la mayor valoración posible que cuente con\n",
    "33 jugadores (no se puede contratar a un jugador en más de una posición), de los cuales 3 son Arqueros, 10\n",
    "Defensas, 12 son Mediocampistas y 8 son Delanteros, y que se limite por el presupuesto disponible, que es de\n",
    "22000 pesos. Para esto, usted sabe que cada jugador de la lista puede ser contratado en cualquier de las 4\n",
    "posiciones, que la valoración total del equipo es la suma de las valoraciones individuales de la posición escogida\n",
    "para cada jugador contratado, y que el costo total de la plantilla de jugadores es la suma de los precios de\n",
    "contratación de todos los jugadores contratados."
   ]
  },
  {
   "cell_type": "markdown",
   "metadata": {},
   "source": [
    "*(a) (10 puntos) Diseñe un algoritmo, prográmelo y ejecútelo en Python, para seleccionar aleatoriamente jugadores a cada una de las 33 posiciones requeridas sin sobrepasar el presupuesto disponible. Registre la solución en: jugadores seleccionados y su posición, valoración total del equipo, total de conflictos (separados en conflictos 1 y conflictos 2) y listados de casos (jugadores en cada conflicto), y el costo total de la plantilla. Una vez diseñado este algoritmo, ejecútelo 1000 veces, y entregue la solución que tiene menos puntaje en conflictos (sume 1 punto a cada conflicto 1 y 5 puntos a cada conflicto 2). En caso de que haya más de una solución con el mismo puntaje en conflictos, escoja aquella que tenga mayor valoración total.*"
   ]
  },
  {
   "cell_type": "code",
   "execution_count": null,
   "metadata": {},
   "outputs": [],
   "source": []
  },
  {
   "cell_type": "markdown",
   "metadata": {},
   "source": [
    "\n",
    "*(b) (10 puntos) Diseñe un modelo de optimización lineal en variables binarias, prográmelo y resuélvalo en Python/GUROBI, para encontrar la conformación de la plantilla de jugadores (33 posiciones), garantizando que no existan conflictos y que no se sobrepasa el presupuesto disponible. Compare esta solución con la obtenida en la parte (a).*"
   ]
  },
  {
   "cell_type": "code",
   "execution_count": 29,
   "metadata": {},
   "outputs": [
    {
     "name": "stdout",
     "output_type": "stream",
     "text": [
      "Restricted license - for non-production use only - expires 2024-10-28\n",
      "No parameters matching 'CloudAPIKey' found\n"
     ]
    }
   ],
   "source": [
    "from gurobipy import *\n",
    "import pandas as pd\n",
    "Env().setParam('CloudAPIKey', '52088e4e-6c08-4d26-96be-91bdd29abd59')\n"
   ]
  },
  {
   "cell_type": "code",
   "execution_count": 30,
   "metadata": {},
   "outputs": [],
   "source": [
    "modelo = Model(\"modelo_futbol\")"
   ]
  },
  {
   "cell_type": "code",
   "execution_count": 31,
   "metadata": {},
   "outputs": [],
   "source": [
    "## Definimos variables \n",
    "# Número de jugadores\n",
    "num_jugadores = 325\n",
    "\n",
    "# Número de posiciones\n",
    "num_posiciones = 4\n",
    "\n",
    "# Número de jugadores por posición\n",
    "num_arqueros = 3\n",
    "num_defensas = 10\n",
    "num_mediocampistas = 12\n",
    "num_delanteros = 8\n",
    "\n",
    "# Presupuesto disponible\n",
    "presupuesto = 22000\n",
    "\n",
    "datos = pd.read_excel(\"Datos.xlsx\", sheet_name=\"Características\")\n"
   ]
  },
  {
   "cell_type": "code",
   "execution_count": 32,
   "metadata": {},
   "outputs": [
    {
     "name": "stdout",
     "output_type": "stream",
     "text": [
      "Gurobi Optimizer version 10.0.3 build v10.0.3rc0 (linux64)\n",
      "\n",
      "CPU model: AMD EPYC 7763 64-Core Processor, instruction set [SSE2|AVX|AVX2]\n",
      "Thread count: 1 physical cores, 2 logical processors, using up to 2 threads\n",
      "\n",
      "Optimize a model with 16 rows, 1300 columns and 5200 nonzeros\n",
      "Model fingerprint: 0x4cbff3e8\n",
      "Variable types: 0 continuous, 1300 integer (1300 binary)\n",
      "Coefficient statistics:\n",
      "  Matrix range     [1e+00, 1e+00]\n",
      "  Objective range  [1e+00, 1e+02]\n",
      "  Bounds range     [1e+00, 1e+00]\n",
      "  RHS range        [3e+00, 1e+01]\n",
      "Found heuristic solution: objective 1695.0000000\n",
      "Presolve removed 15 rows and 1199 columns\n",
      "Presolve time: 0.12s\n",
      "Presolved: 1 rows, 101 columns, 101 nonzeros\n",
      "Found heuristic solution: objective 3223.0000000\n",
      "Variable types: 0 continuous, 101 integer (12 binary)\n",
      "Found heuristic solution: objective 3235.0000000\n",
      "\n",
      "Root relaxation: objective 3.245000e+03, 1 iterations, 0.00 seconds (0.00 work units)\n",
      "\n",
      "    Nodes    |    Current Node    |     Objective Bounds      |     Work\n",
      " Expl Unexpl |  Obj  Depth IntInf | Incumbent    BestBd   Gap | It/Node Time\n",
      "\n",
      "*    0     0               0    3245.0000000 3245.00000  0.00%     -    0s\n",
      "\n",
      "Explored 1 nodes (1 simplex iterations) in 0.19 seconds (0.00 work units)\n",
      "Thread count was 2 (of 2 available processors)\n",
      "\n",
      "Solution count 4: 3245 3235 3223 1695 \n",
      "\n",
      "Optimal solution found (tolerance 1.00e-04)\n",
      "Best objective 3.245000000000e+03, best bound 3.245000000000e+03, gap 0.0000%\n"
     ]
    }
   ],
   "source": [
    "#Variables de desición definidas\n",
    "var_desicion = {}\n",
    "for i in range(num_jugadores):\n",
    "    for j in [\"Arquero\", \"Defensa\", \"Mediocampista\", \"Delantero\"]:\n",
    "        var_desicion[i, j] = modelo.addVar(vtype=GRB.BINARY, lb=0, name=f\"x-{i}-{j}\")\n",
    "#Funcion Objetivo\n",
    "modelo.setObjective(\n",
    "    quicksum(\n",
    "        datos.loc[i, \"Arquero\"] * var_desicion[i, \"Arquero\"] +\n",
    "        datos.loc[i, \"Defensa\"] * var_desicion[i, \"Defensa\"] +\n",
    "        datos.loc[i, \"Mediocampista\"] * var_desicion[i, \"Mediocampista\"] +\n",
    "        datos.loc[i, \"Delantero\"] * var_desicion[i, \"Delantero\"]\n",
    "        for i in range(num_jugadores)\n",
    "    ),\n",
    "    GRB.MAXIMIZE\n",
    ")\n",
    "\n",
    "#Restricciones\n",
    "\n",
    "modelo.addConstrs(\n",
    "    quicksum(var_desicion[i, \"Arquero\"] for i in range(num_jugadores)) == num_arqueros\n",
    "    for j in range(num_posiciones)\n",
    ")\n",
    "modelo.addConstrs(\n",
    "    quicksum(var_desicion[i, \"Defensa\"] for i in range(num_jugadores)) == num_defensas\n",
    "    for j in range(num_posiciones)\n",
    ")\n",
    "modelo.addConstrs(\n",
    "    quicksum(var_desicion[i, \"Mediocampista\"] for i in range(num_jugadores)) == num_mediocampistas\n",
    "    for j in range(num_posiciones)\n",
    ")\n",
    "modelo.addConstrs(\n",
    "    quicksum(var_desicion[i, \"Delantero\"] for i in range(num_jugadores)) == num_delanteros\n",
    "    for j in range(num_posiciones)\n",
    ")\n",
    "# Optimizar el modelo\n",
    "modelo.optimize()\n",
    "\n",
    "\n",
    "\n"
   ]
  },
  {
   "cell_type": "code",
   "execution_count": 33,
   "metadata": {},
   "outputs": [
    {
     "name": "stdout",
     "output_type": "stream",
     "text": [
      "Gurobi Optimizer version 10.0.3 build v10.0.3rc0 (linux64)\n",
      "\n",
      "CPU model: AMD EPYC 7763 64-Core Processor, instruction set [SSE2|AVX|AVX2]\n",
      "Thread count: 1 physical cores, 2 logical processors, using up to 2 threads\n",
      "\n",
      "Optimize a model with 16 rows, 1300 columns and 5200 nonzeros\n",
      "Model fingerprint: 0x4cbff3e8\n",
      "Variable types: 0 continuous, 1300 integer (1300 binary)\n",
      "Coefficient statistics:\n",
      "  Matrix range     [1e+00, 1e+00]\n",
      "  Objective range  [1e+00, 1e+02]\n",
      "  Bounds range     [1e+00, 1e+00]\n",
      "  RHS range        [3e+00, 1e+01]\n",
      "Presolved: 1 rows, 101 columns, 101 nonzeros\n",
      "\n",
      "Continuing optimization...\n",
      "\n",
      "\n",
      "Explored 1 nodes (1 simplex iterations) in 0.01 seconds (0.00 work units)\n",
      "Thread count was 2 (of 2 available processors)\n",
      "\n",
      "Solution count 4: 3245 3235 3223 1695 \n",
      "\n",
      "Optimal solution found (tolerance 1.00e-04)\n",
      "Best objective 3.245000000000e+03, best bound 3.245000000000e+03, gap 0.0000%\n"
     ]
    }
   ],
   "source": [
    "#Respuesta óptima\n",
    "modelo.optimize()\n",
    "\n"
   ]
  },
  {
   "cell_type": "code",
   "execution_count": 44,
   "metadata": {},
   "outputs": [
    {
     "name": "stdout",
     "output_type": "stream",
     "text": [
      "Jugadores seleccionados:\n",
      "Posición Arquero: [177, 245, 298]\n",
      "Posición Defensa: [15, 26, 31, 50, 68, 70, 166, 306, 322, 323]\n",
      "Posición Mediocampista: [10, 94, 105, 128, 159, 161, 162, 197, 243, 281, 288, 315]\n",
      "Posición Delantero: [19, 49, 76, 83, 150, 155, 178, 206]\n",
      "Valoración total del equipo: 3245.0\n",
      "Costo total de la plantilla: 33.0 pesos\n"
     ]
    }
   ],
   "source": [
    "clasificaciones = {}\n",
    "for j in [\"Arquero\", \"Defensa\", \"Mediocampista\", \"Delantero\"]:\n",
    "    clasificaciones[j] = []\n",
    "if modelo.status == GRB.OPTIMAL:\n",
    "    print(\"Jugadores seleccionados:\")\n",
    "    for i in range(num_jugadores):\n",
    "        for j in [\"Arquero\", \"Defensa\", \"Mediocampista\", \"Delantero\"]:\n",
    "            if var_desicion[i, j].x > 0.5:\n",
    "                clasificaciones[j].append(i)\n",
    "    for j in [\"Arquero\", \"Defensa\", \"Mediocampista\", \"Delantero\"]:\n",
    "        print(f\"Posición {j}: {clasificaciones[j]}\")\n",
    "    \n",
    "    print(f\"Valoración total del equipo: {modelo.objVal}\")\n",
    "    print(f\"Costo total de la plantilla: {modelo.getAttr('X', var_desicion).sum()} pesos\")\n",
    "else:\n",
    "    print(\"No se encontró una solución óptima.\")"
   ]
  }
 ],
 "metadata": {
  "kernelspec": {
   "display_name": "Python 3",
   "language": "python",
   "name": "python3"
  },
  "language_info": {
   "codemirror_mode": {
    "name": "ipython",
    "version": 3
   },
   "file_extension": ".py",
   "mimetype": "text/x-python",
   "name": "python",
   "nbconvert_exporter": "python",
   "pygments_lexer": "ipython3",
   "version": "3.10.8"
  }
 },
 "nbformat": 4,
 "nbformat_minor": 2
}
